{
 "cells": [
  {
   "cell_type": "markdown",
   "source": [
    "## City Grid\n",
    "\n",
    "Tile2Net creates a grid of the bounding box of the input city following the Web Map Tile Service (WMTS) standards. You can access both grid level information, as well information about each individual tiles. This grid is used to download tiles, stitch every n tiles together, stitich all tiles in the bounding box to create a large image, among other operations\n",
    "\n",
    "#### To create the data object for your region, you need to pass:\n",
    "<strong>location</strong>: The textual address or bounding box coordinates for your region (e.g. 'Washington square park, Manhattan, NY, USA' ), or a list of coordinates in the form [lat, lon, lat, lon].\n",
    "\n",
    "<strong>name</strong>: Choose a name for your project-region; this name will be used as the base name of the folders for your data.\n",
    "\n",
    "#### Optional parameters:\n",
    "<strong>input_dir</string>: Specify the directory where your tiles are located. If not specified, the tiles will be downloaded from a remote source.\n",
    "\n",
    "<strong>output_dir</strong>: The directory where you want to save your data. If not specified, the data will be saved in a folder under your system's temp directory.\n",
    "\n",
    "<strong>The remaining attributes are not particularly important for the purposes of this tutorial:</strong>\n",
    "\n",
    "<strong>base_tilesize</strong>: The size of the tiles in pixels. The default is 256, which is the standard size for Web Map Tile Services.\n",
    "\n",
    "<strong>zoom</strong>: The zoom level of the tiles. The default is 19, which is the highest zoom level for Web Map Tile Services.\n",
    "\n",
    "<strong>crs</strong>: The coordinate reference system of the tiles. The default is 4326, which is the coordinate reference system for WGS84.\n",
    "\n",
    "<strong>stitch_step</strong>: The number of tiles to stitch together. The default is 1, which means that no stitching will occur. If you want to stitch every 2 tiles together, you would pass 2. If you want to stitch every 4 tiles together, you would pass 4.\n",
    "\n",
    "<strong>boundary_path</strong>: The path to a shapefile that will be used to filter out tiles that are outside the boundary of the shapefile.\n",
    "\n",
    "<strong>padding</strong>: Whether or not to pad the tiles. The default is True, which means that the tiles will be padded to the size of the base_tilesize. If you want to use the original size of the tiles, you would pass False.\n",
    "\n",
    "<strong>extension</strong>: The extension of the tiles. The default is 'png', which is the standard extension for Web Map Tile Services.\n"
   ],
   "metadata": {
    "collapsed": false
   }
  },
  {
   "cell_type": "code",
   "execution_count": null,
   "outputs": [],
   "source": [
    "from tile2net import Raster\n"
   ],
   "metadata": {
    "collapsed": false,
    "ExecuteTime": {
     "start_time": "2023-04-04T03:25:58.373131Z",
     "end_time": "2023-04-04T03:25:58.417313Z"
    }
   }
  },
  {
   "cell_type": "markdown",
   "source": [
    "### Location\n",
    "You may define the location in two different ways. You may either pass an address, or you may pass a bounding box consisting of two points in latitude, longitude format:"
   ],
   "metadata": {
    "collapsed": false
   }
  },
  {
   "cell_type": "code",
   "execution_count": null,
   "outputs": [],
   "source": [
    "location = [40.7649414124685, 40.800556090021466, -73.9815902709961, -73.94966125488281]\n",
    "location = 'Central Park, New York, NY'\n",
    "\n"
   ],
   "metadata": {
    "collapsed": false,
    "ExecuteTime": {
     "start_time": "2023-04-04T03:25:59.705226Z",
     "end_time": "2023-04-04T03:25:59.718519Z"
    }
   }
  },
  {
   "cell_type": "markdown",
   "source": [
    "You may also instantiate a Raster using a local directory of tiles, given that the tiles are in the correct `{X_tile}_{Y_tile}.{file_format}` xyz format. In this case you must specify the `zoom` of the local tiles."
   ],
   "metadata": {
    "collapsed": false
   }
  },
  {
   "cell_type": "code",
   "execution_count": null,
   "outputs": [],
   "source": [
    "raster = Raster(\n",
    "    location=location,\n",
    "    name='central_park',\n",
    "    input_dir='<path/to/tiles>',\n",
    "    zoom=19,\n",
    ")\n",
    "raster"
   ],
   "metadata": {
    "collapsed": false
   }
  },
  {
   "cell_type": "markdown",
   "source": [
    "Without specifying `input_dir`, Raster will determine the most suitable tile source for the location:"
   ],
   "metadata": {
    "collapsed": false
   }
  },
  {
   "cell_type": "code",
   "execution_count": null,
   "outputs": [],
   "source": [
    "raster = Raster(\n",
    "    location=location,\n",
    "    name='central_park',\n",
    ")\n",
    "raster"
   ],
   "metadata": {
    "collapsed": false,
    "ExecuteTime": {
     "start_time": "2023-04-04T03:27:04.707998Z",
     "end_time": "2023-04-04T03:27:07.867405Z"
    }
   }
  },
  {
   "cell_type": "markdown",
   "source": [
    "### Tiles\n",
    "The raster is composed of tiles. You can access a particular tile to view its information, or you can access the entire grid of tiles."
   ],
   "metadata": {
    "collapsed": false
   }
  },
  {
   "cell_type": "code",
   "execution_count": null,
   "outputs": [],
   "source": [
    "raster.tiles[0]"
   ],
   "metadata": {
    "collapsed": false,
    "ExecuteTime": {
     "start_time": "2023-04-04T03:27:10.633844Z",
     "end_time": "2023-04-04T03:27:10.681147Z"
    }
   }
  },
  {
   "cell_type": "markdown",
   "source": [
    "### Project Structure\n",
    "You may view the file structure of the project and its resources by accessing the project attribute."
   ],
   "metadata": {
    "collapsed": false
   }
  },
  {
   "cell_type": "code",
   "execution_count": null,
   "outputs": [],
   "source": [
    "raster.project"
   ],
   "metadata": {
    "collapsed": false,
    "ExecuteTime": {
     "start_time": "2023-04-04T03:27:14.575824Z",
     "end_time": "2023-04-04T03:27:14.613731Z"
    }
   }
  },
  {
   "cell_type": "markdown",
   "source": [
    "You may also programmatically access project specific paths by accessing project subattributes."
   ],
   "metadata": {
    "collapsed": false
   }
  },
  {
   "cell_type": "code",
   "execution_count": null,
   "outputs": [],
   "source": [
    "raster.project.tiles.stitched"
   ],
   "metadata": {
    "collapsed": false,
    "ExecuteTime": {
     "start_time": "2023-04-04T03:27:16.051871Z",
     "end_time": "2023-04-04T03:27:16.105730Z"
    }
   }
  },
  {
   "cell_type": "markdown",
   "source": [
    "### Stitch\n",
    "To begin the inference, we need larger images than what are typically available from Web Map Tile sources. We will stitch together tiles from larger zooms to create high-resolution, stitched images. If the tiles are from a remote source, tile2net will handle the downloads. If the tiles are from a local source, tile2net requires that the static files are in an {<xtile>_<ytile>.<extension>} naming convention and follow the Web Map Tile Service (WMTS) standards."
   ],
   "metadata": {
    "collapsed": false
   }
  },
  {
   "cell_type": "code",
   "execution_count": null,
   "outputs": [],
   "source": [
    "raster.stitch(2)"
   ],
   "metadata": {
    "collapsed": false,
    "pycharm": {
     "is_executing": true
    }
   }
  },
  {
   "cell_type": "markdown",
   "source": [
    "### Inference\n",
    "Now that the tiles have been stitched together, we can run an inference on the stitched images."
   ],
   "metadata": {
    "collapsed": false
   }
  },
  {
   "cell_type": "code",
   "execution_count": null,
   "outputs": [],
   "source": [
    "raster.inference()"
   ],
   "metadata": {
    "collapsed": false
   }
  }
 ],
 "metadata": {
  "kernelspec": {
   "display_name": "Python 3",
   "language": "python",
   "name": "python3"
  },
  "language_info": {
   "codemirror_mode": {
    "name": "ipython",
    "version": 2
   },
   "file_extension": ".py",
   "mimetype": "text/x-python",
   "name": "python",
   "nbconvert_exporter": "python",
   "pygments_lexer": "ipython2",
   "version": "2.7.6"
  }
 },
 "nbformat": 4,
 "nbformat_minor": 0
}
