{
 "cells": [
  {
   "cell_type": "markdown",
   "source": [
    "## City Grid\n",
    "\n",
    "Tile2Net creates a grid of the bounding box of the input city following the Web Map Tile Service (WMTS) standards. You can access both grid level information, as well information about each individual tiles. This grid is used to download tiles, stitch every n tiles together, stitich all tiles in the bounding box to create a large image, among other operations\n",
    "\n",
    "#### To create the data object for your region, you need to pass:\n",
    "<strong>location</strong>: The textual address or bounding box coordinates for your region (e.g. 'Washington square park, Manhattan, NY, USA' ), or a list of coordinates in the form [lat, lon, lat, lon].\n",
    "\n",
    "<strong>name</strong>: Choose a name for your project-region; this name will be used as the base name of the folders for your data.\n",
    "\n",
    "#### Optional parameters:\n",
    "<strong>input_dir</strong>: The path to the input directory, implicating the format of the files, containing the xtile, ytile, and extension, and possibly containing the zoom level, e.g. `path/to/tiles/z/x/y.ext` or `path/to/tiles/x_y.ext`; If not specified, the tiles will be downloaded from a remote source.\n",
    "\n",
    "<strong>output_dir</strong>: The directory where you want to save your data. If not specified, the data will be saved in a folder under your system's temp directory.\n",
    "\n",
    "<strong>The remaining attributes are not particularly important for the purposes of this tutorial:</strong>\n",
    "\n",
    "<strong>base_tilesize</strong>: The size of the tiles in pixels. The default is 256, which is the standard size for Web Map Tile Services.\n",
    "\n",
    "<strong>zoom</strong>: The zoom level of the tiles. The default is 19, which is the highest zoom level for Web Map Tile Services.\n",
    "\n",
    "<strong>crs</strong>: The coordinate reference system of the tiles. The default is 4326, which is the coordinate reference system for WGS84.\n",
    "\n",
    "<strong>stitch_step</strong>: The number of tiles to stitch together. The default is 1, which means that no stitching will occur. If you want to stitch every 2 tiles together, you would pass 2. If you want to stitch every 4 tiles together, you would pass 4.\n",
    "\n",
    "<strong>boundary_path</strong>: The path to a shapefile that will be used to filter out tiles that are outside the boundary of the shapefile.\n",
    "\n",
    "<strong>padding</strong>: Whether or not to pad the tiles. The default is True, which means that the tiles will be padded to the size of the base_tilesize. If you want to use the original size of the tiles, you would pass False.\n",
    "\n",
    "<strong>extension</strong>: The extension of the tiles. The default is 'png', which is the standard extension for Web Map Tile Services.\n",
    "\n",
    "<strong>source</strong>: The raster image source. This may be a string, or a custom defined Source."
   ],
   "metadata": {
    "collapsed": false
   }
  },
  {
   "cell_type": "code",
   "execution_count": 3,
   "outputs": [],
   "source": [
    "from tile2net import Raster\n"
   ],
   "metadata": {
    "collapsed": false,
    "ExecuteTime": {
     "start_time": "2023-04-18T17:58:47.784925Z",
     "end_time": "2023-04-18T17:58:49.941475Z"
    }
   }
  },
  {
   "cell_type": "markdown",
   "source": [
    "### Location\n",
    "You may define the location in two different ways. You may either pass an address, or you may pass a bounding box consisting of two points in latitude, longitude format:"
   ],
   "metadata": {
    "collapsed": false
   }
  },
  {
   "cell_type": "code",
   "execution_count": 4,
   "outputs": [],
   "source": [
    "location = [40.7649414124685, 40.800556090021466, -73.9815902709961, -73.94966125488281]\n",
    "location = 'Central Park, New York, NY'\n",
    "\n"
   ],
   "metadata": {
    "collapsed": false,
    "ExecuteTime": {
     "start_time": "2023-04-18T17:58:51.493814Z",
     "end_time": "2023-04-18T17:58:51.513196Z"
    }
   }
  },
  {
   "cell_type": "markdown",
   "source": [
    "You may also instantiate a Raster using a local directory of tiles, given that the tiles are in the correct `{X_tile}_{Y_tile}.{file_format}` xyz format. In this case you must specify the `zoom` of the local tiles."
   ],
   "metadata": {
    "collapsed": false
   }
  },
  {
   "cell_type": "code",
   "execution_count": null,
   "outputs": [],
   "source": [
    "raster = Raster(\n",
    "    location=location,\n",
    "    name='central_park',\n",
    "    input_dir='<path/to/tiles/z/y/x.png>',\n",
    "    zoom=19,\n",
    ")\n",
    "raster"
   ],
   "metadata": {
    "collapsed": false
   }
  },
  {
   "cell_type": "markdown",
   "source": [
    "Without specifying `input_dir`, Raster will determine the most suitable tile source for the location:"
   ],
   "metadata": {
    "collapsed": false
   }
  },
  {
   "cell_type": "code",
   "execution_count": 5,
   "outputs": [
    {
     "name": "stderr",
     "output_type": "stream",
     "text": [
      "INFO       Geocoded 'Central Park, New York, NY' to\n",
      "\t'Central Park, New York County, City of New York, New York, United States'\n"
     ]
    },
    {
     "data": {
      "text/plain": "central_park Data Constructor. \nCoordinate reference system (CRS): 4326 \nTile size (pixel): 256 \nZoom level: 20 \nNumber of columns: 94 \nNumber of rows: 138 \nTotal tiles: 12,972 \nNumber of tiles inside the boundary: 12,972 (100.0%) "
     },
     "execution_count": 5,
     "metadata": {},
     "output_type": "execute_result"
    }
   ],
   "source": [
    "raster = Raster(\n",
    "    location=location,\n",
    "    name='central_park',\n",
    ")\n",
    "raster"
   ],
   "metadata": {
    "collapsed": false,
    "ExecuteTime": {
     "start_time": "2023-04-18T17:58:54.822431Z",
     "end_time": "2023-04-18T17:58:56.484024Z"
    }
   }
  },
  {
   "cell_type": "markdown",
   "source": [
    "### Tiles\n",
    "The raster is composed of tiles. You can access a particular tile to view its information, or you can access the entire grid of tiles."
   ],
   "metadata": {
    "collapsed": false
   }
  },
  {
   "cell_type": "code",
   "execution_count": null,
   "outputs": [],
   "source": [
    "raster.tiles[0]"
   ],
   "metadata": {
    "collapsed": false,
    "ExecuteTime": {
     "start_time": "2023-04-04T03:27:10.633844Z",
     "end_time": "2023-04-04T03:27:10.681147Z"
    }
   }
  },
  {
   "cell_type": "markdown",
   "source": [
    "### Project Structure\n",
    "You may view the file structure of the project and its resources by accessing the project attribute."
   ],
   "metadata": {
    "collapsed": false
   }
  },
  {
   "cell_type": "code",
   "execution_count": null,
   "outputs": [],
   "source": [
    "raster.project"
   ],
   "metadata": {
    "collapsed": false,
    "ExecuteTime": {
     "start_time": "2023-04-04T03:27:14.575824Z",
     "end_time": "2023-04-04T03:27:14.613731Z"
    }
   }
  },
  {
   "cell_type": "markdown",
   "source": [
    "You may also programmatically access project specific paths by accessing project subattributes."
   ],
   "metadata": {
    "collapsed": false
   }
  },
  {
   "cell_type": "code",
   "execution_count": null,
   "outputs": [],
   "source": [
    "raster.project.tiles.stitched"
   ],
   "metadata": {
    "collapsed": false,
    "ExecuteTime": {
     "start_time": "2023-04-04T03:27:16.051871Z",
     "end_time": "2023-04-04T03:27:16.105730Z"
    }
   }
  },
  {
   "cell_type": "markdown",
   "source": [
    "### Stitch\n",
    "To begin the inference, we need larger images than what are typically available from Web Map Tile sources. We will stitch together tiles from larger zooms to create high-resolution, stitched images. If the tiles are from a remote source, tile2net will handle the downloads. If the tiles are from a local source, tile2net requires that the static files are in an {<xtile>_<ytile>.<extension>} naming convention and follow the Web Map Tile Service (WMTS) standards."
   ],
   "metadata": {
    "collapsed": false
   }
  },
  {
   "cell_type": "code",
   "execution_count": 6,
   "outputs": [
    {
     "name": "stderr",
     "output_type": "stream",
     "text": [
      "INFO       Starting Stitching Tiles...\n",
      "           Checking 12,972 files...               : 100%|██████████| 12972/12972 [00:00<00:00, 13806.77it/s]\n",
      "           Downloading 12,972 tiles...            : 100%|██████████| 12972/12972 [01:51<00:00, 115.84it/s]\n",
      "INFO       All 12972 tiles are on disk.\n"
     ]
    },
    {
     "ename": "FileNotFoundError",
     "evalue": "No relevant tiles found in /tmp/tile2net/central_park/tiles/static/ny/256_20. ",
     "output_type": "error",
     "traceback": [
      "\u001B[0;31m---------------------------------------------------------------------------\u001B[0m",
      "\u001B[0;31mFileNotFoundError\u001B[0m                         Traceback (most recent call last)",
      "Cell \u001B[0;32mIn[6], line 1\u001B[0m\n\u001B[0;32m----> 1\u001B[0m \u001B[43mraster\u001B[49m\u001B[38;5;241;43m.\u001B[39;49m\u001B[43mstitch\u001B[49m\u001B[43m(\u001B[49m\u001B[38;5;241;43m2\u001B[39;49m\u001B[43m)\u001B[49m\n",
      "File \u001B[0;32m~/PycharmProjects/test/tile2net/venv/lib/python3.10/site-packages/tile2net/raster/raster.py:439\u001B[0m, in \u001B[0;36mRaster.stitch\u001B[0;34m(self, step, force)\u001B[0m\n\u001B[1;32m    434\u001B[0m threads \u001B[38;5;241m=\u001B[39m ThreadPoolExecutor()\n\u001B[1;32m    435\u001B[0m \u001B[38;5;28;01mif\u001B[39;00m \u001B[38;5;129;01mnot\u001B[39;00m \u001B[38;5;28many\u001B[39m(\n\u001B[1;32m    436\u001B[0m         os\u001B[38;5;241m.\u001B[39mpath\u001B[38;5;241m.\u001B[39mexists(file)\n\u001B[1;32m    437\u001B[0m         \u001B[38;5;28;01mfor\u001B[39;00m file \u001B[38;5;129;01min\u001B[39;00m itertools\u001B[38;5;241m.\u001B[39mchain\u001B[38;5;241m.\u001B[39mfrom_iterable(list_infiles)\n\u001B[1;32m    438\u001B[0m ):\n\u001B[0;32m--> 439\u001B[0m     \u001B[38;5;28;01mraise\u001B[39;00m \u001B[38;5;167;01mFileNotFoundError\u001B[39;00m(\n\u001B[1;32m    440\u001B[0m         \u001B[38;5;124mf\u001B[39m\u001B[38;5;124m'\u001B[39m\u001B[38;5;124mNo relevant tiles found in \u001B[39m\u001B[38;5;132;01m{\u001B[39;00m\u001B[38;5;28mself\u001B[39m\u001B[38;5;241m.\u001B[39mproject\u001B[38;5;241m.\u001B[39mtiles\u001B[38;5;241m.\u001B[39mstatic\u001B[38;5;241m.\u001B[39mpath\u001B[38;5;132;01m}\u001B[39;00m\u001B[38;5;124m. \u001B[39m\u001B[38;5;124m'\u001B[39m\n\u001B[1;32m    441\u001B[0m     )\n\u001B[1;32m    442\u001B[0m sample: np\u001B[38;5;241m.\u001B[39mndarray \u001B[38;5;241m=\u001B[39m \u001B[38;5;28mnext\u001B[39m(\n\u001B[1;32m    443\u001B[0m     imageio\u001B[38;5;241m.\u001B[39mv3\u001B[38;5;241m.\u001B[39mimread(file)\n\u001B[1;32m    444\u001B[0m     \u001B[38;5;28;01mfor\u001B[39;00m file \u001B[38;5;129;01min\u001B[39;00m itertools\u001B[38;5;241m.\u001B[39mchain\u001B[38;5;241m.\u001B[39mfrom_iterable(list_infiles)\n\u001B[1;32m    445\u001B[0m     \u001B[38;5;28;01mif\u001B[39;00m os\u001B[38;5;241m.\u001B[39mpath\u001B[38;5;241m.\u001B[39mexists(file)\n\u001B[1;32m    446\u001B[0m )\n\u001B[1;32m    447\u001B[0m \u001B[38;5;28;01mif\u001B[39;00m sample\u001B[38;5;241m.\u001B[39mshape[:\u001B[38;5;241m2\u001B[39m] \u001B[38;5;241m!=\u001B[39m (\u001B[38;5;28mself\u001B[39m\u001B[38;5;241m.\u001B[39mbase_tilesize, \u001B[38;5;28mself\u001B[39m\u001B[38;5;241m.\u001B[39mbase_tilesize):\n",
      "\u001B[0;31mFileNotFoundError\u001B[0m: No relevant tiles found in /tmp/tile2net/central_park/tiles/static/ny/256_20. "
     ]
    }
   ],
   "source": [
    "raster.stitch(2)"
   ],
   "metadata": {
    "collapsed": false
   }
  },
  {
   "cell_type": "markdown",
   "source": [
    "### Inference\n",
    "Now that the tiles have been stitched together, we can run an inference on the stitched images."
   ],
   "metadata": {
    "collapsed": false
   }
  },
  {
   "cell_type": "code",
   "execution_count": null,
   "outputs": [],
   "source": [
    "raster.inference()"
   ],
   "metadata": {
    "collapsed": false
   }
  }
 ],
 "metadata": {
  "kernelspec": {
   "display_name": "Python 3",
   "language": "python",
   "name": "python3"
  },
  "language_info": {
   "codemirror_mode": {
    "name": "ipython",
    "version": 2
   },
   "file_extension": ".py",
   "mimetype": "text/x-python",
   "name": "python",
   "nbconvert_exporter": "python",
   "pygments_lexer": "ipython2",
   "version": "2.7.6"
  }
 },
 "nbformat": 4,
 "nbformat_minor": 0
}
