{
 "cells": [
  {
   "cell_type": "raw",
   "source": [
    "## Custom Source\n",
    "You can define a custom Source by subclassing from `Source` and overwriting its class attributes and `__getitem__` method to yield the associated URLs."
   ],
   "metadata": {
    "collapsed": false
   }
  },
  {
   "cell_type": "code",
   "execution_count": null,
   "outputs": [],
   "source": [
    "from tile2net import Source, Tile\n",
    "from numpy import ndarray\n",
    "\n",
    "\n",
    "class EastOregon(Source):\n",
    "    name = 'e_or'\n",
    "\n",
    "    def __getitem__(self, item):\n",
    "        tile: Tile\n",
    "        for tile in item:\n",
    "            yield (\n",
    "                f'https://imagery.oregonexplorer.info/arcgis/rest/services/'\n",
    "                f'OSIP_2017/OSIP_2017_WM/ImageServer/tile/{tile.zoom}/{tile.ytile}/{tile.xtile}'\n",
    "            )"
   ],
   "metadata": {
    "collapsed": false
   }
  },
  {
   "cell_type": "markdown",
   "source": [
    "Then, pass it as an argument to Raster:"
   ],
   "metadata": {
    "collapsed": false
   }
  },
  {
   "cell_type": "code",
   "execution_count": null,
   "outputs": [],
   "source": [
    "from tile2net import Raster\n",
    "\n",
    "\n",
    "raster = Raster(\n",
    "    location='Broadway Plaza, Eugene, OR',\n",
    "    name='eugene',\n",
    "    source=EastOregon,\n",
    ")"
   ],
   "metadata": {
    "collapsed": false
   }
  }
 ],
 "metadata": {
  "kernelspec": {
   "display_name": "Python 3",
   "language": "python",
   "name": "python3"
  },
  "language_info": {
   "codemirror_mode": {
    "name": "ipython",
    "version": 2
   },
   "file_extension": ".py",
   "mimetype": "text/x-python",
   "name": "python",
   "nbconvert_exporter": "python",
   "pygments_lexer": "ipython2",
   "version": "2.7.6"
  }
 },
 "nbformat": 4,
 "nbformat_minor": 0
}
